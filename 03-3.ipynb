{
 "cells": [
  {
   "cell_type": "code",
   "execution_count": 54,
   "id": "e2a5b819-100a-41e0-8365-7bcbb415c4e8",
   "metadata": {},
   "outputs": [],
   "source": [
    "import pandas as pd"
   ]
  },
  {
   "cell_type": "code",
   "execution_count": 56,
   "id": "9eb35e28-30af-45c5-ac42-7d8ec83ecd84",
   "metadata": {},
   "outputs": [],
   "source": [
    "df = pd.read_csv('data/Fish.csv')\n",
    "# df.head()"
   ]
  },
  {
   "cell_type": "code",
   "execution_count": 58,
   "id": "3ac850fb-3ed4-4ebd-8758-3a121ff40f72",
   "metadata": {},
   "outputs": [],
   "source": [
    "perch_df = df.loc[df['Species'] == 'Perch']\n",
    "# perch_df.head()"
   ]
  },
  {
   "cell_type": "code",
   "execution_count": 60,
   "id": "d174baa7-d95d-40be-b0d2-bc68b83bb1b7",
   "metadata": {},
   "outputs": [],
   "source": [
    "perch_full = perch_df[  ['Length2', 'Height', 'Width']  ]\n",
    "perch_weight = perch_df[  ['Weight']  ]"
   ]
  },
  {
   "cell_type": "code",
   "execution_count": 62,
   "id": "cb9d21f2-8f0e-4483-82e9-ab785cb2b499",
   "metadata": {},
   "outputs": [
    {
     "data": {
      "text/html": [
       "<div>\n",
       "<style scoped>\n",
       "    .dataframe tbody tr th:only-of-type {\n",
       "        vertical-align: middle;\n",
       "    }\n",
       "\n",
       "    .dataframe tbody tr th {\n",
       "        vertical-align: top;\n",
       "    }\n",
       "\n",
       "    .dataframe thead th {\n",
       "        text-align: right;\n",
       "    }\n",
       "</style>\n",
       "<table border=\"1\" class=\"dataframe\">\n",
       "  <thead>\n",
       "    <tr style=\"text-align: right;\">\n",
       "      <th></th>\n",
       "      <th>Weight</th>\n",
       "    </tr>\n",
       "  </thead>\n",
       "  <tbody>\n",
       "    <tr>\n",
       "      <th>72</th>\n",
       "      <td>5.9</td>\n",
       "    </tr>\n",
       "    <tr>\n",
       "      <th>73</th>\n",
       "      <td>32.0</td>\n",
       "    </tr>\n",
       "    <tr>\n",
       "      <th>74</th>\n",
       "      <td>40.0</td>\n",
       "    </tr>\n",
       "    <tr>\n",
       "      <th>75</th>\n",
       "      <td>51.5</td>\n",
       "    </tr>\n",
       "    <tr>\n",
       "      <th>76</th>\n",
       "      <td>70.0</td>\n",
       "    </tr>\n",
       "  </tbody>\n",
       "</table>\n",
       "</div>"
      ],
      "text/plain": [
       "    Weight\n",
       "72     5.9\n",
       "73    32.0\n",
       "74    40.0\n",
       "75    51.5\n",
       "76    70.0"
      ]
     },
     "execution_count": 62,
     "metadata": {},
     "output_type": "execute_result"
    }
   ],
   "source": [
    "perch_weight.head()"
   ]
  },
  {
   "cell_type": "code",
   "execution_count": 64,
   "id": "b2f65197-20bc-4b22-9b07-f83e94bd4dc0",
   "metadata": {},
   "outputs": [],
   "source": [
    "from sklearn.model_selection import train_test_split"
   ]
  },
  {
   "cell_type": "code",
   "execution_count": 66,
   "id": "fdbd9cf0-44ae-4b7b-9c55-3e03a52ea346",
   "metadata": {},
   "outputs": [],
   "source": [
    "train_input, test_input, train_target, test_target =\\\n",
    "train_test_split(perch_full, perch_weight, random_state=42)"
   ]
  },
  {
   "cell_type": "code",
   "execution_count": 68,
   "id": "d4a330d3-8491-4e09-b36b-bc5f216af7b9",
   "metadata": {},
   "outputs": [
    {
     "data": {
      "text/html": [
       "<div>\n",
       "<style scoped>\n",
       "    .dataframe tbody tr th:only-of-type {\n",
       "        vertical-align: middle;\n",
       "    }\n",
       "\n",
       "    .dataframe tbody tr th {\n",
       "        vertical-align: top;\n",
       "    }\n",
       "\n",
       "    .dataframe thead th {\n",
       "        text-align: right;\n",
       "    }\n",
       "</style>\n",
       "<table border=\"1\" class=\"dataframe\">\n",
       "  <thead>\n",
       "    <tr style=\"text-align: right;\">\n",
       "      <th></th>\n",
       "      <th>Length2</th>\n",
       "      <th>Height</th>\n",
       "      <th>Width</th>\n",
       "    </tr>\n",
       "  </thead>\n",
       "  <tbody>\n",
       "    <tr>\n",
       "      <th>80</th>\n",
       "      <td>19.6</td>\n",
       "      <td>5.1376</td>\n",
       "      <td>3.0368</td>\n",
       "    </tr>\n",
       "    <tr>\n",
       "      <th>89</th>\n",
       "      <td>22.0</td>\n",
       "      <td>5.8750</td>\n",
       "      <td>3.5250</td>\n",
       "    </tr>\n",
       "    <tr>\n",
       "      <th>78</th>\n",
       "      <td>18.7</td>\n",
       "      <td>5.1992</td>\n",
       "      <td>3.1234</td>\n",
       "    </tr>\n",
       "    <tr>\n",
       "      <th>76</th>\n",
       "      <td>17.4</td>\n",
       "      <td>4.5880</td>\n",
       "      <td>2.9415</td>\n",
       "    </tr>\n",
       "    <tr>\n",
       "      <th>113</th>\n",
       "      <td>36.0</td>\n",
       "      <td>10.6091</td>\n",
       "      <td>6.7408</td>\n",
       "    </tr>\n",
       "  </tbody>\n",
       "</table>\n",
       "</div>"
      ],
      "text/plain": [
       "     Length2   Height   Width\n",
       "80      19.6   5.1376  3.0368\n",
       "89      22.0   5.8750  3.5250\n",
       "78      18.7   5.1992  3.1234\n",
       "76      17.4   4.5880  2.9415\n",
       "113     36.0  10.6091  6.7408"
      ]
     },
     "execution_count": 68,
     "metadata": {},
     "output_type": "execute_result"
    }
   ],
   "source": [
    "train_input.head()"
   ]
  },
  {
   "cell_type": "code",
   "execution_count": 70,
   "id": "5519a8a2-3fb7-473d-83b0-3f0a2cb50dac",
   "metadata": {},
   "outputs": [],
   "source": [
    "from sklearn.preprocessing import PolynomialFeatures"
   ]
  },
  {
   "cell_type": "code",
   "execution_count": 72,
   "id": "ea536af2-3280-4c91-aad3-3adc26d72935",
   "metadata": {},
   "outputs": [
    {
     "data": {
      "text/plain": [
       "array([[ 3.,  5.,  9., 15., 25.]])"
      ]
     },
     "execution_count": 72,
     "metadata": {},
     "output_type": "execute_result"
    }
   ],
   "source": [
    "poly = PolynomialFeatures(include_bias=False)\n",
    "poly.fit([[3, 5]])\n",
    "poly.transform([[3, 5]])"
   ]
  },
  {
   "cell_type": "code",
   "execution_count": 74,
   "id": "16f85182-704d-4adb-bed3-fe95bbe258dd",
   "metadata": {},
   "outputs": [
    {
     "data": {
      "text/plain": [
       "array([[  19.6       ,    5.1376    ,    3.0368    ,  384.16      ,\n",
       "         100.69696   ,   59.52128   ,   26.39493376,   15.60186368,\n",
       "           9.22215424],\n",
       "       [  22.        ,    5.875     ,    3.525     ,  484.        ,\n",
       "         129.25      ,   77.55      ,   34.515625  ,   20.709375  ,\n",
       "          12.425625  ],\n",
       "       [  18.7       ,    5.1992    ,    3.1234    ,  349.69      ,\n",
       "          97.22504   ,   58.40758   ,   27.03168064,   16.23918128,\n",
       "           9.75562756],\n",
       "       [  17.4       ,    4.588     ,    2.9415    ,  302.76      ,\n",
       "          79.8312    ,   51.1821    ,   21.049744  ,   13.495602  ,\n",
       "           8.65242225],\n",
       "       [  36.        ,   10.6091    ,    6.7408    , 1296.        ,\n",
       "         381.9276    ,  242.6688    ,  112.55300281,   71.51382128,\n",
       "          45.43838464]])"
      ]
     },
     "execution_count": 74,
     "metadata": {},
     "output_type": "execute_result"
    }
   ],
   "source": [
    "poly = PolynomialFeatures(include_bias=False)\n",
    "poly.fit(train_input)\n",
    "train_poly = poly.transform(train_input)\n",
    "# train_poly.shape\n",
    "train_poly[:5]"
   ]
  },
  {
   "cell_type": "code",
   "execution_count": 76,
   "id": "3f539619-2b95-446b-ade0-1f6ed42075f5",
   "metadata": {},
   "outputs": [
    {
     "data": {
      "text/plain": [
       "array(['Length2', 'Height', 'Width', 'Length2^2', 'Length2 Height',\n",
       "       'Length2 Width', 'Height^2', 'Height Width', 'Width^2'],\n",
       "      dtype=object)"
      ]
     },
     "execution_count": 76,
     "metadata": {},
     "output_type": "execute_result"
    }
   ],
   "source": [
    "poly.get_feature_names_out()"
   ]
  },
  {
   "cell_type": "code",
   "execution_count": 78,
   "id": "833ca18c-cf9e-41b2-8fe7-f3109fb7b91a",
   "metadata": {},
   "outputs": [],
   "source": [
    "test_poly = poly.transform(test_input)"
   ]
  },
  {
   "cell_type": "code",
   "execution_count": null,
   "id": "8d2a59a8-ef0b-4664-be33-198210756524",
   "metadata": {},
   "outputs": [],
   "source": []
  },
  {
   "cell_type": "code",
   "execution_count": 81,
   "id": "8e4b5448-fa34-4352-81fb-5e7c11174b31",
   "metadata": {},
   "outputs": [],
   "source": [
    "from sklearn.linear_model import LinearRegression"
   ]
  },
  {
   "cell_type": "code",
   "execution_count": 83,
   "id": "e3f4324f-baab-46f2-9019-97dd364058d6",
   "metadata": {},
   "outputs": [
    {
     "data": {
      "text/plain": [
       "0.9903557670312703"
      ]
     },
     "execution_count": 83,
     "metadata": {},
     "output_type": "execute_result"
    }
   ],
   "source": [
    "lr = LinearRegression()\n",
    "lr.fit(train_poly, train_target)\n",
    "lr.score(train_poly, train_target)"
   ]
  },
  {
   "cell_type": "code",
   "execution_count": 85,
   "id": "d77ad710-a6f5-437e-b39b-b8298d35526a",
   "metadata": {},
   "outputs": [
    {
     "data": {
      "text/plain": [
       "0.9712376207461859"
      ]
     },
     "execution_count": 85,
     "metadata": {},
     "output_type": "execute_result"
    }
   ],
   "source": [
    "lr.score(test_poly, test_target)"
   ]
  },
  {
   "cell_type": "code",
   "execution_count": 87,
   "id": "a7612664-89ec-4e08-901c-b70904f5fe47",
   "metadata": {},
   "outputs": [
    {
     "data": {
      "text/plain": [
       "(42, 55)"
      ]
     },
     "execution_count": 87,
     "metadata": {},
     "output_type": "execute_result"
    }
   ],
   "source": [
    "poly = PolynomialFeatures(degree=5, include_bias=False)\n",
    "poly.fit(train_input)\n",
    "train_poly = poly.transform(train_input)\n",
    "test_poly = poly.transform(test_input)\n",
    "train_poly.shape"
   ]
  },
  {
   "cell_type": "code",
   "execution_count": 89,
   "id": "7b936859-23de-42b6-b395-e06553c651d3",
   "metadata": {},
   "outputs": [
    {
     "data": {
      "text/plain": [
       "array(['Length2', 'Height', 'Width', 'Length2^2', 'Length2 Height',\n",
       "       'Length2 Width', 'Height^2', 'Height Width', 'Width^2',\n",
       "       'Length2^3', 'Length2^2 Height', 'Length2^2 Width',\n",
       "       'Length2 Height^2', 'Length2 Height Width', 'Length2 Width^2',\n",
       "       'Height^3', 'Height^2 Width', 'Height Width^2', 'Width^3',\n",
       "       'Length2^4', 'Length2^3 Height', 'Length2^3 Width',\n",
       "       'Length2^2 Height^2', 'Length2^2 Height Width',\n",
       "       'Length2^2 Width^2', 'Length2 Height^3', 'Length2 Height^2 Width',\n",
       "       'Length2 Height Width^2', 'Length2 Width^3', 'Height^4',\n",
       "       'Height^3 Width', 'Height^2 Width^2', 'Height Width^3', 'Width^4',\n",
       "       'Length2^5', 'Length2^4 Height', 'Length2^4 Width',\n",
       "       'Length2^3 Height^2', 'Length2^3 Height Width',\n",
       "       'Length2^3 Width^2', 'Length2^2 Height^3',\n",
       "       'Length2^2 Height^2 Width', 'Length2^2 Height Width^2',\n",
       "       'Length2^2 Width^3', 'Length2 Height^4', 'Length2 Height^3 Width',\n",
       "       'Length2 Height^2 Width^2', 'Length2 Height Width^3',\n",
       "       'Length2 Width^4', 'Height^5', 'Height^4 Width',\n",
       "       'Height^3 Width^2', 'Height^2 Width^3', 'Height Width^4',\n",
       "       'Width^5'], dtype=object)"
      ]
     },
     "execution_count": 89,
     "metadata": {},
     "output_type": "execute_result"
    }
   ],
   "source": [
    "poly.get_feature_names_out()"
   ]
  },
  {
   "cell_type": "code",
   "execution_count": 26,
   "id": "759db466-386e-488d-a59b-5581779907aa",
   "metadata": {},
   "outputs": [
    {
     "data": {
      "text/plain": [
       "0.9999999999991127"
      ]
     },
     "execution_count": 26,
     "metadata": {},
     "output_type": "execute_result"
    }
   ],
   "source": [
    "lr.fit(train_poly, train_target)\n",
    "lr.score(train_poly, train_target)"
   ]
  },
  {
   "cell_type": "code",
   "execution_count": 27,
   "id": "9db8dc98-858a-4e5a-aeb5-3b6353e2757e",
   "metadata": {},
   "outputs": [
    {
     "data": {
      "text/plain": [
       "-129.88010840656509"
      ]
     },
     "execution_count": 27,
     "metadata": {},
     "output_type": "execute_result"
    }
   ],
   "source": [
    "lr.score(test_poly, test_target)"
   ]
  },
  {
   "cell_type": "code",
   "execution_count": 48,
   "id": "3c579ed6-9e71-4af7-b7f9-0b94dee03ce7",
   "metadata": {},
   "outputs": [],
   "source": [
    "from sklearn.preprocessing import StandardScaler"
   ]
  },
  {
   "cell_type": "code",
   "execution_count": 52,
   "id": "f169dd25-c5a7-4b06-b47d-ee8cafc3b15e",
   "metadata": {},
   "outputs": [
    {
     "ename": "NameError",
     "evalue": "name 'train_scaled' is not defined",
     "output_type": "error",
     "traceback": [
      "\u001b[1;31m---------------------\u001b[0m",
      "\u001b[1;31mNameError\u001b[0mTraceback (most recent call last)",
      "Cell \u001b[1;32mIn[52], line 3\u001b[0m\n\u001b[0;32m      1\u001b[0m ss \u001b[38;5;241m=\u001b[39m StandardScaler()\n\u001b[0;32m      2\u001b[0m ss\u001b[38;5;241m.\u001b[39mfit(train_poly)\n\u001b[1;32m----> 3\u001b[0m train_scaled \u001b[38;5;241m==\u001b[39m ss\u001b[38;5;241m.\u001b[39mtransform(train_poly)\n\u001b[0;32m      4\u001b[0m test_scaled \u001b[38;5;241m==\u001b[39m ss\u001b[38;5;241m.\u001b[39mtransform(test_poly)\n",
      "\u001b[1;31mNameError\u001b[0m: name 'train_scaled' is not defined"
     ]
    }
   ],
   "source": [
    "ss = StandardScaler()\n",
    "ss.fit(train_poly)\n",
    "train_scaled == ss.transform(train_poly)\n",
    "test_scaled == ss.transform(test_poly)\n",
    "#train)scled[:5]"
   ]
  },
  {
   "cell_type": "code",
   "execution_count": 95,
   "id": "f38afc93-5c2d-4903-a557-3aea233d9260",
   "metadata": {},
   "outputs": [
    {
     "ename": "NameError",
     "evalue": "name 'train_scaled' is not defined",
     "output_type": "error",
     "traceback": [
      "\u001b[1;31m---------------------\u001b[0m",
      "\u001b[1;31mNameError\u001b[0mTraceback (most recent call last)",
      "Cell \u001b[1;32mIn[95], line 3\u001b[0m\n\u001b[0;32m      1\u001b[0m \u001b[38;5;28;01mfrom\u001b[39;00m \u001b[38;5;21;01msklearn\u001b[39;00m\u001b[38;5;21;01m.\u001b[39;00m\u001b[38;5;21;01mlinear_model\u001b[39;00m \u001b[38;5;28;01mimport\u001b[39;00m Ridge\n\u001b[0;32m      2\u001b[0m ridgh \u001b[38;5;241m=\u001b[39m Ridge()\n\u001b[1;32m----> 3\u001b[0m ridgh\u001b[38;5;241m.\u001b[39mfit(train_scaled, train_target)\n\u001b[0;32m      4\u001b[0m ridge\u001b[38;5;241m.\u001b[39mscore(train_scaled, train_target)\n",
      "\u001b[1;31mNameError\u001b[0m: name 'train_scaled' is not defined"
     ]
    }
   ],
   "source": [
    "from sklearn.linear_model import Ridge\n",
    "ridgh = Ridge()\n",
    "ridgh.fit(train_scaled, train_target)\n",
    "ridge.score(train_scaled, train_target)"
   ]
  },
  {
   "cell_type": "code",
   "execution_count": 101,
   "id": "ba154049-3983-481e-9825-c01ebb07ed89",
   "metadata": {},
   "outputs": [
    {
     "ename": "NameError",
     "evalue": "name 'test_scaled' is not defined",
     "output_type": "error",
     "traceback": [
      "\u001b[1;31m---------------------\u001b[0m",
      "\u001b[1;31mNameError\u001b[0mTraceback (most recent call last)",
      "Cell \u001b[1;32mIn[101], line 1\u001b[0m\n\u001b[1;32m----> 1\u001b[0m Ridge\u001b[38;5;241m.\u001b[39mscore(test_scaled, test_target)\n",
      "\u001b[1;31mNameError\u001b[0m: name 'test_scaled' is not defined"
     ]
    }
   ],
   "source": [
    "Ridge.score(test_scaled, test_target)"
   ]
  },
  {
   "cell_type": "code",
   "execution_count": 105,
   "id": "9e6abd26-44ac-4eef-a999-5c48c72b3765",
   "metadata": {},
   "outputs": [],
   "source": [
    "import matplotlib.pyplot as plt"
   ]
  },
  {
   "cell_type": "code",
   "execution_count": 107,
   "id": "5dd3e4cb-ced4-41a8-9976-a5d2807667d9",
   "metadata": {},
   "outputs": [],
   "source": [
    "train_score = []\n",
    "test_score = []"
   ]
  },
  {
   "cell_type": "code",
   "execution_count": null,
   "id": "8db28ab0-df45-44f2-a55e-17ed2979256c",
   "metadata": {},
   "outputs": [],
   "source": []
  },
  {
   "cell_type": "code",
   "execution_count": 127,
   "id": "62f5f794-0bf7-4db2-bbda-b08726537a2c",
   "metadata": {},
   "outputs": [
    {
     "data": {
      "text/html": [
       "<div>\n",
       "<style scoped>\n",
       "    .dataframe tbody tr th:only-of-type {\n",
       "        vertical-align: middle;\n",
       "    }\n",
       "\n",
       "    .dataframe tbody tr th {\n",
       "        vertical-align: top;\n",
       "    }\n",
       "\n",
       "    .dataframe thead th {\n",
       "        text-align: right;\n",
       "    }\n",
       "</style>\n",
       "<table border=\"1\" class=\"dataframe\">\n",
       "  <thead>\n",
       "    <tr style=\"text-align: right;\">\n",
       "      <th></th>\n",
       "      <th>Species</th>\n",
       "      <th>Weight</th>\n",
       "      <th>Length1</th>\n",
       "      <th>Length2</th>\n",
       "      <th>Length3</th>\n",
       "      <th>Height</th>\n",
       "      <th>Width</th>\n",
       "    </tr>\n",
       "  </thead>\n",
       "  <tbody>\n",
       "    <tr>\n",
       "      <th>0</th>\n",
       "      <td>Bream</td>\n",
       "      <td>242.0</td>\n",
       "      <td>23.2</td>\n",
       "      <td>25.4</td>\n",
       "      <td>30.0</td>\n",
       "      <td>11.5200</td>\n",
       "      <td>4.0200</td>\n",
       "    </tr>\n",
       "    <tr>\n",
       "      <th>1</th>\n",
       "      <td>Bream</td>\n",
       "      <td>290.0</td>\n",
       "      <td>24.0</td>\n",
       "      <td>26.3</td>\n",
       "      <td>31.2</td>\n",
       "      <td>12.4800</td>\n",
       "      <td>4.3056</td>\n",
       "    </tr>\n",
       "    <tr>\n",
       "      <th>2</th>\n",
       "      <td>Bream</td>\n",
       "      <td>340.0</td>\n",
       "      <td>23.9</td>\n",
       "      <td>26.5</td>\n",
       "      <td>31.1</td>\n",
       "      <td>12.3778</td>\n",
       "      <td>4.6961</td>\n",
       "    </tr>\n",
       "    <tr>\n",
       "      <th>3</th>\n",
       "      <td>Bream</td>\n",
       "      <td>363.0</td>\n",
       "      <td>26.3</td>\n",
       "      <td>29.0</td>\n",
       "      <td>33.5</td>\n",
       "      <td>12.7300</td>\n",
       "      <td>4.4555</td>\n",
       "    </tr>\n",
       "    <tr>\n",
       "      <th>4</th>\n",
       "      <td>Bream</td>\n",
       "      <td>430.0</td>\n",
       "      <td>26.5</td>\n",
       "      <td>29.0</td>\n",
       "      <td>34.0</td>\n",
       "      <td>12.4440</td>\n",
       "      <td>5.1340</td>\n",
       "    </tr>\n",
       "  </tbody>\n",
       "</table>\n",
       "</div>"
      ],
      "text/plain": [
       "  Species  Weight  Length1  Length2  Length3   Height   Width\n",
       "0   Bream   242.0     23.2     25.4     30.0  11.5200  4.0200\n",
       "1   Bream   290.0     24.0     26.3     31.2  12.4800  4.3056\n",
       "2   Bream   340.0     23.9     26.5     31.1  12.3778  4.6961\n",
       "3   Bream   363.0     26.3     29.0     33.5  12.7300  4.4555\n",
       "4   Bream   430.0     26.5     29.0     34.0  12.4440  5.1340"
      ]
     },
     "execution_count": 127,
     "metadata": {},
     "output_type": "execute_result"
    }
   ],
   "source": [
    "import pandas as pd\n",
    "\n",
    "fish = pd.read_csv('data/Fish.csv')\n",
    "fish.head()"
   ]
  },
  {
   "cell_type": "code",
   "execution_count": 129,
   "id": "e7e20a83-2beb-4ba2-8cc5-26dbe1f75f41",
   "metadata": {},
   "outputs": [
    {
     "data": {
      "text/plain": [
       "array(['Bream', 'Roach', 'Whitefish', 'Parkki', 'Perch', 'Pike', 'Smelt'],\n",
       "      dtype=object)"
      ]
     },
     "execution_count": 129,
     "metadata": {},
     "output_type": "execute_result"
    }
   ],
   "source": [
    "fish['Species'].unique()"
   ]
  },
  {
   "cell_type": "code",
   "execution_count": 131,
   "id": "653ef3e2-92d2-4a90-93aa-37c42875145d",
   "metadata": {},
   "outputs": [],
   "source": [
    "fish_input = fish[['Weight','Length1', 'Length2', 'Length3', 'Height', 'Width' ]]\n",
    "fish_target = fish[['Species']]\n",
    "\n",
    "#인풋 우측, 타겟 좌측"
   ]
  },
  {
   "cell_type": "code",
   "execution_count": 133,
   "id": "dbbfb6ec-354d-423a-9cf1-213b4b1b43ca",
   "metadata": {},
   "outputs": [],
   "source": [
    "from sklearn.model_selection import train_test_split\n",
    "\n"
   ]
  },
  {
   "cell_type": "code",
   "execution_count": 145,
   "id": "7980b600-5dc8-424a-a6ae-7a30cf5bb5d6",
   "metadata": {},
   "outputs": [],
   "source": [
    "train_input, test_input, train_target, test_target =\\\n",
    "train_test_split(fish_input, fish_target, random_state=42)"
   ]
  },
  {
   "cell_type": "code",
   "execution_count": 175,
   "id": "6b469dac-0e7a-45ac-8135-6d5de457d73f",
   "metadata": {},
   "outputs": [],
   "source": [
    "from sklearn.preprocessing import StandardScaler\n",
    "\n",
    "ss = StandardScaler()\n",
    "ss.fit(train_input)\n",
    "train_scaled = ss.transform(train_input)\n",
    "test_scaled = ss.transform(test_input)\n",
    "#train_scaled[:5]\n",
    "# 로지스틱 회귀는 분류작업"
   ]
  },
  {
   "cell_type": "code",
   "execution_count": 183,
   "id": "5029bd9c-55f5-4220-ae1d-8c790a1dde0d",
   "metadata": {},
   "outputs": [],
   "source": [
    "from sklearn.neighbors import KNeighborsClassifier"
   ]
  },
  {
   "cell_type": "code",
   "execution_count": 195,
   "id": "cfa15622-ced2-4d07-88d6-c6d4597cb311",
   "metadata": {},
   "outputs": [
    {
     "name": "stderr",
     "output_type": "stream",
     "text": [
      "C:\\Anaconda3\\Lib\\site-packages\\sklearn\\neighbors\\_classification.py:215: DataConversionWarning: A column-vector y was passed when a 1d array was expected. Please change the shape of y to (n_samples,), for example using ravel().\n",
      "  return self._fit(X, y)\n"
     ]
    },
    {
     "data": {
      "text/plain": [
       "0.8907563025210085"
      ]
     },
     "execution_count": 195,
     "metadata": {},
     "output_type": "execute_result"
    }
   ],
   "source": [
    "kn = KNeighborsClassifier(n_neighbors=3)\n",
    "kn.fit(train_scaled, train_target)\n",
    "kn.score(train_scaled, train_target)"
   ]
  },
  {
   "cell_type": "code",
   "execution_count": 197,
   "id": "97c1209c-59ad-4868-b37e-834f09da9e54",
   "metadata": {},
   "outputs": [
    {
     "data": {
      "text/plain": [
       "array(['Bream', 'Parkki', 'Perch', 'Pike', 'Roach', 'Smelt', 'Whitefish'],\n",
       "      dtype=object)"
      ]
     },
     "execution_count": 197,
     "metadata": {},
     "output_type": "execute_result"
    }
   ],
   "source": [
    "kn.classes_"
   ]
  },
  {
   "cell_type": "code",
   "execution_count": 200,
   "id": "1d268cd7-a2c1-409c-a894-3d510d08979e",
   "metadata": {},
   "outputs": [
    {
     "data": {
      "text/plain": [
       "array([[-0.88741352, -0.9551175 , -0.91804565, -1.03098914, -0.90464451,\n",
       "        -0.80762518],\n",
       "       [-1.06924656, -1.46655284, -1.50842035, -1.54345461, -1.58849582,\n",
       "        -1.93803151],\n",
       "       [-0.54401367,  0.36859749,  0.35641402,  0.30663259, -0.8135697 ,\n",
       "        -0.65388895],\n",
       "       [-0.34698097, -0.27320372, -0.23396068, -0.22320459, -0.11905019,\n",
       "        -0.12233464],\n",
       "       [-0.68475132, -0.53393546, -0.51509149, -0.58801052, -0.8998784 ,\n",
       "        -0.50124996]])"
      ]
     },
     "execution_count": 200,
     "metadata": {},
     "output_type": "execute_result"
    }
   ],
   "source": [
    "test_scaled[:5]"
   ]
  },
  {
   "cell_type": "code",
   "execution_count": null,
   "id": "ded380d9-d479-4adb-98c8-8cd893335894",
   "metadata": {},
   "outputs": [],
   "source": []
  }
 ],
 "metadata": {
  "kernelspec": {
   "display_name": "Python 3 (ipykernel)",
   "language": "python",
   "name": "python3"
  },
  "language_info": {
   "codemirror_mode": {
    "name": "ipython",
    "version": 3
   },
   "file_extension": ".py",
   "mimetype": "text/x-python",
   "name": "python",
   "nbconvert_exporter": "python",
   "pygments_lexer": "ipython3",
   "version": "3.11.7"
  },
  "widgets": {
   "application/vnd.jupyter.widget-state+json": {
    "state": {},
    "version_major": 2,
    "version_minor": 0
   }
  }
 },
 "nbformat": 4,
 "nbformat_minor": 5
}
