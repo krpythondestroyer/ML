import pandas as pd

wine = pd.read_csv('https://bit.ly/wine_csv_data')


data = wine[['alcohol','sugar','pH']]
target = wine[['class']]


from sklearn.model_selection import train_test_split


train_input, test_input, train_target, test_target =\
train_test_split(data, target,random_state=42)


sub_input, valid_input, sub_target, val_target = \
train_test_split(train_input, train_target, random_state=42)


print(data.shape, train_input.shape, test_input.shape)


from sklearn.tree import DecisionTreeClassifier

df = DecisionTreeClassifier(random_state=42)
df.fit(sub_input, sub_target)
print(dt.score(sub_input, sub_target))
print(dt.score(val_input, val_target))


from sklearn.model_selection import cross_validate


scores = cross_validate(dt, train_input,train_target)
np.mean(scores['test_score'])


from sklearn.model_selection import StratifiedKFold





from sklearn.model_selection import GridSearchCV


params = {'min_impurity_decrease ' : [0.0001,0.0002,0.0003,0.0004,0.0005]}


dt = 
gs = GridSearchCV(dt,params)
