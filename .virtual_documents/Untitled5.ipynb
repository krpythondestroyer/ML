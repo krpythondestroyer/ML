import pandas as pd  


red_wine = pd.read_csv('data/winequality-red.csv', sep=';')
white_wine = pd.read_csv('data/winequality-white.csv', sep=';')


red_wine.head()


red_wine = red_wine[['alcohol','residual sugar','pH']]
red_wine.rename(columns={'residual sugar':'sugar'}, inplace=True)


red_wine['class'] = 0
red_wine.head()


white_wine = white_wine[['alcohol','residual sugar','pH']]
white_wine.rename(columns={'residual sugar':'sugar'}, inplace=True)

white_wine['class'] = 1
white_wine.head()


wine = pd.concat([red_wine, white_wine])


wine.info()


data = wine[['alcohol','sugar','pH']]
target = wine[['class']]


from sklearn.model_selection import train_test_split


train_input, test_input, train_target, test_target =\
train_test_split(data, target, test_size = 0.2, random_state=42)


from sklearn.tree import DecisionTreeClassifier


dt = DecisionTreeClassifier()
dt.fit(train_input, train_target)


print(dt.score(train_input, train_target))
print(dt.score(test_input, test_target))


import matplotlib.pyplot as plt
from sklearn.tree import plot_tree
plt.figure(figsize=(10,7))
plot_tree(dt)
plt.show()


plt.figure(figsize=(10,7))
plot_tree(dt,max_depth-1, feature_names=[['alcohol','sugar','pH']])
