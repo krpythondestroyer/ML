


import pandas as pd

df = pd.read_csv('data/Fish.csv')


df.head()


cond = df['Species'].isin(['Bream','Smelt'])


fish_data = df.loc[cond, ['Length2','Weight']]
fish_target = df.loc[cond, ['Species']]


fish_target.head()


from sklearn.model_selection import train_test_split


train_input, test_input, train_target, test_target = train_test_split(fish_data, fish_target, random_state=42, stratify=fish_target)
#random_state=42 - 고정값 / stratify=fish_target- 일정한 비율이 필요할떄, splilt 바로 분류 


test_target


from sklearn.neighbors import KNeighborsClassifier


kn = KNeighborsClassifier()


kn.fit(train_input, train_target['Species'])

# 최근접 아로길즘은 kn은 1차원을 기대 하는중 
       


kn.score(test_input, test_target)


kn.predict([[50,300]])


import matplotlib.pyplot as plt


plt.scatter(train_input['Length2'],train_input['Weight'])
plt.scatter(25,150, marker='^')
plt.show


distance, indexes = kn.kneighbors([[25,150]])


indexes


n_df = train_input.iloc[indexes[0]]





plt.scatter(train_input['Length2'],train_input['Weight'])
plt.scatter(n_df['Length2'],n_df['Weight'],marker='d')
plt.scatter(25,150, marker='^')
plt
plt.show


mean = train_input.mean()


std = train_input.std()


train_input.head()


(train_input - mean).head()


train_scaled = ((train_input - mean) / std )


train_scaled


new = ([25,150] - mean ) / std
new


train_scaled.shape


kn.fit(train_scaled, train_target['Species'])


test_scaled = (test_input - mean )/ std


kn.score(test_scaled, test_target)














import seaborn as sns


df = sns.load_dataset('penguins')
df


df['species']=['Adelie']



