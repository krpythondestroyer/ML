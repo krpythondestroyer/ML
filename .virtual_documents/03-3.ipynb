import pandas as pd


df = pd.read_csv('data/Fish.csv')
# df.head()


perch_df = df.loc[df['Species'] == 'Perch']
# perch_df.head()


perch_full = perch_df[  ['Length2', 'Height', 'Width']  ]
perch_weight = perch_df[  ['Weight']  ]


perch_weight.head()


from sklearn.model_selection import train_test_split


train_input, test_input, train_target, test_target =\
train_test_split(perch_full, perch_weight, random_state=42)


train_input.head()


from sklearn.preprocessing import PolynomialFeatures


poly = PolynomialFeatures(include_bias=False)
poly.fit([[3, 5]])
poly.transform([[3, 5]])


poly = PolynomialFeatures(include_bias=False)
poly.fit(train_input)
train_poly = poly.transform(train_input)
# train_poly.shape
train_poly[:5]


poly.get_feature_names_out()


test_poly = poly.transform(test_input)





from sklearn.linear_model import LinearRegression


lr = LinearRegression()
lr.fit(train_poly, train_target)
lr.score(train_poly, train_target)


lr.score(test_poly, test_target)


poly = PolynomialFeatures(degree=5, include_bias=False)
poly.fit(train_input)
train_poly = poly.transform(train_input)
test_poly = poly.transform(test_input)
train_poly.shape


poly.get_feature_names_out()


lr.fit(train_poly, train_target)
lr.score(train_poly, train_target)


lr.score(test_poly, test_target)


from sklearn.preprocessing import StandardScaler


ss = StandardScaler()
ss.fit(train_poly)
train_scaled == ss.transform(train_poly)
test_scaled == ss.transform(test_poly)
#train)scled[:5]



