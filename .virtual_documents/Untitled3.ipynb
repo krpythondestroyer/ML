import pandas as pd 



df = pd.read_csv('data/Fish.csv')


cond = df['Species'] == 'Perch'
perch_length = df.loc[cond, ['Length2']]
perch_weight = df.loc[cond, ['Weight']]

perch_length


from sklearn.model_selection import train_test_split


train_input, test_input, train_target, test_target = train_test_split(
    perch_length, perch_weight)


from sklearn.linear_model import LinearRegression


lr = LinearRegression()


lr.fit(train_input, train_target)


lr.score(test_input,test_target)


lr.predict([[100]])


a =lr.coef_[0][0]
a

## 대괄호를 넣어야지 벗겨지는것 [0]



b = lr.intercept_[0]
b


import matplotlib.pyplot as plt

plt.scatter(train_input['Length2'],train_target['Weight'])
plt.plot([10,50],[10*a+b,50*a + b])
plt.show()


perch_length.head()


train_input['Length2_poly'] = train_input['Length2']** 2
test_input['Length2_poly'] = test_input['Length2']** 2



train_input.head()


lr = LinearRegression()
lr.fit(train_input, train_target)


lr.coef_

# 앞은x , 뒤는 x2, 인터셉트는 절편


lr.intercept_


lr.predict([[60,60**2]])


lr.score(test_input, test_target)


#lr.score()


import matplotlib.pyplot as plt
import numpy as np

point = np.arange(10,50)

plt.scatter(train_input['Length2'],train_target['Weight'])
#plt.plot([10,50],[10*a+b,50*a + b])
plt.plot(point, 0.96959788 * point ** 2 + -19.30582576 * point +88.83275025)
plt.show()






