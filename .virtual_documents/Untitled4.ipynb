import pandas as pd



df = pd.read_csv('data/Fish.csv')
df.head()



