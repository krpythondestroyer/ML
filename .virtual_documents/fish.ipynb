import pandas as pd


df = pd.read_csv('data/Fish.csv')
df.head()


df.shape


df['Species'].unique()


df_Bream = df[df['Species'] =='Bream']
df_Bream


bream_length = df_Bream['Length2'].tolist()
bream_weight = df_Bream['Weight'].tolist()
bream_length
#.tolist() - 형태변환 가능


import matplotlib.pyplot as plt

plt.scatter(bream_length,bream_weight)
plt.xlabel('length')
plt.ylabel('weight')
plt.show()

# bar,histogram,scatter


df_Smelt = df[df['Species'] =='Smelt']
df_Smelt.head()


Smelt_length = df_Smelt['Length2'].tolist()
Smelt_weight = df_Smelt['Weight'].tolist()
Smelt_length
#.tolist() - 리스트 배열 변환/ 기본은 넘파이 배열로 나오 


plt.scatter(bream_length,bream_weight)
plt.scatter(Smelt_length,Smelt_weight)

plt.xlabel('length')
plt.ylabel('weight')
plt.show()


length = bream_length + Smelt_length
weight  =  bream_weight + Smelt_weight

# +는 값이 아니라,concat느낌


fish_data = [[l,w] for l, w in zip(length, weight)]
# fish_data = [[l,w] for l, w in zip(length, weight)]
# 튜플을 리스트로 바누끈 
#판다스느1 차원 , 다른거 2차원, 1차워, / 2차원에서 1차원으로 2차원  / 튜플과 리스트는 차원의 문제?
# 위아래로 나열


target_data = [1] * len(bream_length) + [0] * len(Smelt_length)


from sklearn.neighbors import KNeighborsClassifier


kn = KNeighborsClassifier()


kn.fit(fish_data,target_data)


kn.score(fish_data,target_data)


plt.scatter(bream_length,bream_weight)
plt.scatter(20,400, c = 'black', s=100, marker ='*')
plt.scatter(16,30)
plt.scatter(Smelt_length,Smelt_weight)

plt.show()


kn.predict([[25,400]])

# 학습에 따른 예측


kn.predict([[16,30]])
# 도미인지 빙어인지 예측 물어보는것
# 가장 근접 5개 가지고 예측 0인지 1인지


kn._fit_x


kn._y 


kn49 = KNeighborsClassifier(49)





kn49.fit(fish_data,target_data)

# 핏 - 정담 알려줌, 스코어, 프레딕트


kn49.score(fish_data,target_data)


35/49

# 다수결의 원칙


kn = KNeighborsClassifier()
kn.fit(fish_data,target_data)

for n in range(5,50):
    kn.n_neighbors = n

    score = kn.score(fish_data,target_data)

    print(n, score)
    if score < 1:
        break

#18마리 부터가 안맞는 시점


kn = KNeighborsClassifier()
kn.fit(fish_data,target_data)

for n in range(5,50):
    kn.n_neighbors = n

    score = kn.score(fish_data,target_data)

    print(n, score)

# 29마리가 기준이 되는것

# 빙어 14마리 / 빙어 28 / 아무리 손들어도 29이내 =-
# 빙어 발언권이 높음 /- 갈수록 떨어짐 
# 다수결의 원칙
# 분기점으로 바귐 


import seaborn as sns 

df = sns.load_dataset('iris')
df

#어떤 것들이 있는지 알고 싶음 . unique() 사용
# 데이터 선택 - mean 활용 / df.groupby('species').mean()


#데이터 가져오기
#어떤 특서성을 사용할지 
# kn 학습 
# 시각화
# 예측


df.shape


df_setosa = df[df['species'] =='setosa']
df_setosa


setosa_length = df_setosa['sepal_length'].tolist()
setosa_width = df_setosa['sepal_width'].tolist()
setosa_length
setosa_width


import matplotlib.pyplot as plt

plt.scatter(sepal_length,sepal_width)
plt.xlabel('setosa_length')
plt.ylabel('setosa_width')
plt.show()


df_virginica = df[df['species'] =='virginica']
df_virginica.head()


virginica_length = df_virginica['sepal_length'].tolist()
virginica_width = df_virginica['sepal_width'].tolist()
virginica_length
virginica_width


plt.scatter(virginica_length,virginica_width)
plt.xlabel('virginica_length')
plt.ylabel('virginica_width')
plt.show()


plt.scatter(sepal_length,sepal_width)
plt.scatter(virginica_length,virginica_width)

plt.xlabel('length')
plt.ylabel('width')

plt.show()


length = setosa_length + virginica_length
width  = setosa_width + virginica_width


iris_data = [[l,w] for l, w in zip(length, width)]


target_data = [1] * len(setosa_length) + [0] * len(virginica_length)


from sklearn.neighbors import KNeighborsClassifier


kn = KNeighborsClassifier()


kn.fit(iris_data,target_data)


kn.score(iris_data,target_data)


plt.scatter(setosa_length,setosa_width)
plt.scatter(8,3)
plt.scatter(virginica_length,virginica_width)

plt.show()


kn.predict([[8,3]])


df.head(150)


import pandas as pd


df = pd.read_csv('data/Fish.csv')
df.head()


cond = df['Species'].isin(['Bream','Smelt'])
lw_df = df.loc[cond,['Length2','Weight']]
fish_data = lw_df.values.tolist()

# 아까 판다스 방식이나 이 방식이나 둘다 가능 


fish_target = [1] * 35 + [0] * 14


from sklearn.neighbors import KNeighborsClassifier
kn = KNeighborsClassifier()


train_input = fish_data[:35]
train_target = fish_target[:35]

test_input = fish_data[35:]
test_target = fish_target[35:]


kn.fit(train_input,train_target)
kn.score(test_input,test_target)


import numpy as np 


fish_arr = np.array(fish_data)
target_arr = np.array(fish_target)


fish_arr


np.random.seed(42)
index = np.arange(49)
np.random.shuffle(index)
print(index)


train_input = fish_arr[index[:35]]
train_target = target_arr[index[:35]]

test_input = fish_arr[index[35:]]
test_target = target_arr[index[35:]]



import matplotlib.pyplot as plt


plt.scatter(train_input[:,0],train_input[:,1])
plt.scatter(test_input[:,0],test_input[:,1])
plt.show()


kn.fit(train_input,train_target)


kn.score(test_input,test_target)



