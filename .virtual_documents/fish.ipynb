import pandas as pd


df = pd.read_csv('data/Fish.csv')
df.head()


df.shape


df['Species'].unique()


df_Bream = df[df['Species'] =='Bream']
df_Bream


bream_length = df_Bream['Length2'].tolist()
bream_weight = df_Bream['Weight'].tolist()
bream_length
#.tolist() - 형태변환 가능


import matplotlib.pyplot as plt

plt.scatter(bream_length,bream_weight)
plt.xlabel('length')
plt.ylabel('weight')
plt.show()

# bar,histogram,scatter


df_Smelt = df[df['Species'] =='Smelt']
df_Smelt.head()


Smelt_length = df_Smelt['Length2'].tolist()
Smelt_weight = df_Smelt['Weight'].tolist()
Smelt_length
#.tolist() - 리스트 배열 변환/ 기본은 넘파이 배열로 나오 


plt.scatter(bream_length,bream_weight)
plt.scatter(Smelt_length,Smelt_weight)

plt.xlabel('length')
plt.ylabel('weight')
plt.show()


length = bream_length + Smelt_length
weight  =  bream_weight + Smelt_weight

# +는 값이 아니라,concat느낌


fish_data = [[l,w] for l, w in zip(length, weight)]
# fish_data = [[l,w] for l, w in zip(length, weight)]
# 튜플을 리스트로 바누끈 
#판다스느1 차원 , 다른거 2차원, 1차워, / 2차원에서 1차원으로 2차원  / 튜플과 리스트는 차원의 문제?
# 위아래로 나열


target_data = [1] * len(bream_length) + [0] * len(Smelt_length)


from sklearn.neighbors import KNeighborsClassifier


kn = KNeighborsClassifier()


kn.fit(fish_data,target_data)


kn.score(fish_data,target_data)


plt.scatter(bream_length,bream_weight)
plt.scatter(20,400, c = 'black', s=100, marker ='*')
plt.scatter(16,30)
plt.scatter(Smelt_length,Smelt_weight)

plt.show()


kn.predict([[25,400]])

# 학습에 따른 예측


kn.predict([[16,30]])
# 도미인지 빙어인지 예측 물어보는것
# 가장 근접 5개 가지고 예측 0인지 1인지


kn._fit_x


kn._y 


kn49 = KNeighborsClassifier(49)





kn49.fit(fish_data,target_data)

# 핏 - 정담 알려줌, 스코어, 프레딕트


kn49.score(fish_data,target_data)


35/49

# 다수결의 원칙


kn = KNeighborsClassifier()
kn.fit(fish_data,target_data)

for n in range(5,50):
    kn.n_neighbors = n

    score = kn.score(fish_data,target_data)

    print(n, score)
    if score < 1:
        break

#18마리 부터가 안맞는 시점


kn = KNeighborsClassifier()
kn.fit(fish_data,target_data)

for n in range(5,50):
    kn.n_neighbors = n

    score = kn.score(fish_data,target_data)

    print(n, score)

# 29마리가 기준이 되는것

# 빙어 14마리 / 빙어 28 / 아무리 손들어도 29이내 =-
# 빙어 발언권이 높음 /- 갈수록 떨어짐 
# 다수결의 원칙
# 분기점으로 바귐 


import seaborn as sns 

df = sns.load_dataset('iris')
df

#어떤 것들이 있는지 알고 싶음 . unique() 사용
# 데이터 선택 - mean 활용 / df.groupby('species').mean()


#데이터 가져오기
#어떤 특서성을 사용할지 
# kn 학습 
# 시각화
# 예측


df.shape


df_setosa = df[df['species'] =='setosa']
df_setosa


setosa_length = df_setosa['sepal_length'].tolist()
setosa_width = df_setosa['sepal_width'].tolist()
setosa_length
setosa_width


import matplotlib.pyplot as plt

plt.scatter(sepal_length,sepal_width)
plt.xlabel('setosa_length')
plt.ylabel('setosa_width')
plt.show()


df_virginica = df[df['species'] =='virginica']
df_virginica.head()


virginica_length = df_virginica['sepal_length'].tolist()
virginica_width = df_virginica['sepal_width'].tolist()
virginica_length
virginica_width


plt.scatter(virginica_length,virginica_width)
plt.xlabel('virginica_length')
plt.ylabel('virginica_width')
plt.show()


plt.scatter(sepal_length,sepal_width)
plt.scatter(virginica_length,virginica_width)

plt.xlabel('length')
plt.ylabel('width')

plt.show()


length = setosa_length + virginica_length
width  = setosa_width + virginica_width


iris_data = [[l,w] for l, w in zip(length, width)]


target_data = [1] * len(setosa_length) + [0] * len(virginica_length)


from sklearn.neighbors import KNeighborsClassifier


kn = KNeighborsClassifier()


kn.fit(iris_data,target_data)


kn.score(iris_data,target_data)


plt.scatter(setosa_length,setosa_width)
plt.scatter(8,3)
plt.scatter(virginica_length,virginica_width)

plt.show()


kn.predict([[8,3]])


df.head(150)


import pandas as pd


df = pd.read_csv('data/Fish.csv')
df.head()


cond = df['Species'].isin(['Bream','Smelt'])
lw_df = df.loc[cond,['Length2','Weight']]
fish_data = lw_df.values.tolist()

# 아까 판다스 방식이나 이 방식이나 둘다 가능 


fish_target = [1] * 35 + [0] * 14


from sklearn.neighbors import KNeighborsClassifier
kn = KNeighborsClassifier()


train_input = fish_data[:35]
train_target = fish_target[:35]

test_input = fish_data[35:]
test_target = fish_target[35:]


kn.fit(train_input,train_target)
kn.score(test_input,test_target)


import numpy as np 


fish_arr = np.array(fish_data)
target_arr = np.array(fish_target)


fish_arr


np.random.seed(42)
index = np.arange(49)
np.random.shuffle(index)
print(index)


train_input = fish_arr[index[:35]]
train_target = target_arr[index[:35]]

test_input = fish_arr[index[35:]]
test_target = target_arr[index[35:]]



import matplotlib.pyplot as plt


plt.scatter(train_input[:,0],train_input[:,1])
plt.scatter(test_input[:,0],test_input[:,1])
plt.show()


kn.fit(train_input,train_target)


kn.score(test_input,test_target)



kn.predict(test_input)


test_target


import pandas as pd

df = pd.read_csv('data/Fish.csv')


df.head()


cond = df['Species'].isin(['Bream','Smelt'])


fish_data = df.loc[cond, ['Length2','Weight']]
fish_target = df.loc[cond, ['Species']]


fish_target.head()


from sklearn.model_selection import train_test_split


train_input, test_input, train_target, test_target = train_test_split(fish_data, fish_target, random_state=42, stratify=fish_target)
#random_state=42 - 고정값 / stratify=fish_target- 일정한 비율이 필요할떄, splilt 바로 분류 


test_target


from sklearn.neighbors import KNeighborsClassifier


kn = KNeighborsClassifier()


kn.fit(train_input, train_target['Species'])

# 최근접 아로길즘은 kn은 1차원을 기대 하는중 
       


kn.score(test_input, test_target)


kn.predict([[50,300]])


import matplotlib.pyplot as plt


plt.scatter(train_input['Length2'],train_input['Weight'])
plt.scatter(25,150, marker='^')
plt.show


distance, indexes = kn.kneighbors([[25,150]])


indexes


n_df = train_input.iloc[indexes[0]]





plt.scatter(train_input['Length2'],train_input['Weight'])
plt.scatter(n_df['Length2'],n_df['Weight'],marker='d')
plt.scatter(25,150, marker='^')
plt.xlim(0, 1000)
plt.show


mean = train_input.mean()


std = train_input.std()


train_input.head()


(train_input - mean).head()


train_scaled = ((train_input - mean) / std )


train_scaled


new = ([25,150] - mean ) / std
new


kn.fit(train_scaled, train_target['Species'])


test_scaled = (test_input - mean )/ std


kn.score(test_scaled, test_target)


kn.predict([new])


import seaborn as sns


df = sns.load_dataset('penguins')
df


df.groupby('species').mean(numeric_only=True)
# 그룹바인와


df.groupby('species').std(numeric_only=True)





df1 = df.dropna(axis=0)

# 그냥 df.dropna() 도 가능 
# mean , numeric)only
# 시각화를 통해서 분리 명확한것-  매틀랩


df1


cond = df1['species'].isin(['Adelie','Gentoo'])


penguins_data = df1.loc[cond, ['flipper_length_mm','body_mass_g']]
penguins_data


penguins_target = df1.loc[cond, ['species']]


penguins_target.head()


from sklearn.model_selection import train_test_split


train_input, test_input, train_target, test_target = train_test_split(
    penguins_data, penguins_target, stratify=penguins_target, random_state=42)


from sklearn.neighbors import KNeighborsClassifier


kn = KNeighborsClassifier()


kn.fit(train_input, train_target['species'])


kn.score(test_input, test_target)


kn.predict([[50,300]])


import matplotlib.pyplot as plt


plt.scatter(train_input['flipper_length_mm'],train_input['body_mass_g'])
plt.scatter(200,3000, marker='^')
plt.show


distance, indexes = kn.kneighbors([[200,3000]])


indexes


n_df = train_input.iloc[indexes[0]]


plt.scatter(train_input['flipper_length_m'],train_input['body_mass_g'])
plt.scatter(n_df['flipper_length_mm'], n_df['body_mass_g'], marker='D')
plt.scatter(200,3000, marker='^')
plt.xlim(180, 250)
plt.show


mean = train_input.mean()


std = train_input.std()


train_input.head()


(train_input - mean).head()


train_scaled = ((train_input - mean) / std)


new = ([200, 3000] - mean) / std
new


kn.fit(train_scaled, train_target['species'])


test_scaled = (test_input - mean) / std


kn.score(test_scaled, test_target)


kn.predict([new])


train_target





import pandas as pd


df = pd.read_csv('data/Fish.csv')


cond = df['Species'] == 'Perch'
perch_data = df.loc[cond]


import matplotlib.pyplot as plt
plt.scatter(perch_data['Length2'],perch_data['Weight'])


from sklearn.model_selection import train_test_split


train_input, test_input, train_target, test_target = train_test_split(
    perch_data[['Length2']], perch_data[['Weight']])


train_target.head()


from sklearn.neighbors import KNeighborsRegressor


knr = KNeighborsRegressor()


knr.fit(train_input, train_target)


knr.score(train_input, train_target)


knr.score(test_input, test_target)



knr.n_neighbors = 3


knr.fit(train_input, train_target)
print(knr.score(train_input, train_target))
print(knr.score(test_input, test_target))


knr.predict([[70]])





import pandas as pd 



df = pd.read_csv('data/Fish.csv')


cond = df['Species'] == 'Perch'
perch_length = df.loc[cond, ['Length2']]
perch_weight = df.loc[cond, ['Weight']]

perch_length


from sklearn.model_selection import train_test_split


train_input, test_input, train_target, test_target = train_test_split(
    perch_length, perch_weight)


from sklearn.linear_model import LinearRegression


lr = LinearRegression()


lr.fit(train_input, train_target)


lr.score(test_input,test_target)


lr.predict([[100]])


a =lr.coef_[0][0]
a

## 대괄호를 넣어야지 벗겨지는것 [0]



b = lr.intercept_[0]
b


import matplotlib.pyplot as plt

plt.scatter(train_input['Length2'],train_target['Weight'])
plt.plot([10,50],[10*a+b,50*a + b])
plt.show()


perch_length.head()


train_input['Length2_poly'] = train_input['Length2']** 2
test_input['Length2_poly'] = test_input['Length2']** 2



train_input.head()


lr = LinearRegression()
lr.fit(train_input, train_target)


lr.coef_

# 앞은x , 뒤는 x2, 인터셉트는 절편


lr.intercept_


lr.predict([[60,60**2]])


lr.score(test_input, test_target)


#lr.score()


import matplotlib.pyplot as plt
import numpy as np

point = np.arange(10.50)

plt.scatter(train_input['Length2'],train_target['Weight'])
#plt.plot([10,50],[10*a+b,50*a + b])
plt.plot(point, 0.96959788 * point ** 2 + -19.30582576 * point +88.83275025)
plt.show()



